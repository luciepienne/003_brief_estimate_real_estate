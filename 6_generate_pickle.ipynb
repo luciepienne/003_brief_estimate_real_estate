{
 "cells": [
  {
   "cell_type": "code",
   "execution_count": 1,
   "id": "a8899033-a697-4127-be6c-a6bd512e34ae",
   "metadata": {
    "tags": []
   },
   "outputs": [],
   "source": [
    "import pickle\n",
    "from pprint import pprint\n"
   ]
  },
  {
   "cell_type": "code",
   "execution_count": 2,
   "id": "92ce816e-ebb3-4626-bce8-132140c16b50",
   "metadata": {
    "tags": []
   },
   "outputs": [
    {
     "ename": "NameError",
     "evalue": "name 'model' is not defined",
     "output_type": "error",
     "traceback": [
      "\u001b[1;31m---------------------------------------------------------------------------\u001b[0m",
      "\u001b[1;31mNameError\u001b[0m                                 Traceback (most recent call last)",
      "Cell \u001b[1;32mIn[2], line 1\u001b[0m\n\u001b[1;32m----> 1\u001b[0m pickle\u001b[38;5;241m.\u001b[39mdump(model, \u001b[38;5;28mopen\u001b[39m(\u001b[38;5;124m'\u001b[39m\u001b[38;5;124mname_best_model.pkl\u001b[39m\u001b[38;5;124m'\u001b[39m, \u001b[38;5;124m'\u001b[39m\u001b[38;5;124mwb\u001b[39m\u001b[38;5;124m'\u001b[39m))\n",
      "\u001b[1;31mNameError\u001b[0m: name 'model' is not defined"
     ]
    }
   ],
   "source": [
    "pickle.dump(model, open('name_best_model.pkl', 'wb'))"
   ]
  },
  {
   "cell_type": "code",
   "execution_count": null,
   "id": "e2118d08-eb50-420f-b460-c8b30c5336f0",
   "metadata": {},
   "outputs": [],
   "source": [
    "reloaded_model = pickle.load(open('name_best_model.pkl', 'rb'))"
   ]
  },
  {
   "cell_type": "code",
   "execution_count": null,
   "id": "f99cf9d5-46bb-4d1e-8154-07ca69530e01",
   "metadata": {},
   "outputs": [],
   "source": [
    "one_sample[['latitude', 'longitude']].values"
   ]
  },
  {
   "cell_type": "code",
   "execution_count": null,
   "id": "c160bc31",
   "metadata": {},
   "outputs": [],
   "source": [
    "one_sample = idf_df.sample()[['prix_m2', 'adresse', 'latitude', 'longitude']]\n",
    "pprint(one_sample)\n",
    "print(reloaded_model.predict(one_sample[['latitude', 'longitude']].values))"
   ]
  }
 ],
 "metadata": {
  "kernelspec": {
   "display_name": "Python 3 (ipykernel)",
   "language": "python",
   "name": "python3"
  },
  "language_info": {
   "codemirror_mode": {
    "name": "ipython",
    "version": 3
   },
   "file_extension": ".py",
   "mimetype": "text/x-python",
   "name": "python",
   "nbconvert_exporter": "python",
   "pygments_lexer": "ipython3",
   "version": "3.11.5"
  }
 },
 "nbformat": 4,
 "nbformat_minor": 5
}
