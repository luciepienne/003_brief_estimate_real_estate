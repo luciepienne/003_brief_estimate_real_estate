{
 "cells": [
  {
   "cell_type": "code",
   "execution_count": 16,
   "id": "a8899033-a697-4127-be6c-a6bd512e34ae",
   "metadata": {
    "tags": []
   },
   "outputs": [],
   "source": [
    "import pandas as pd\n",
    "import numpy as np"
   ]
  },
  {
   "cell_type": "code",
   "execution_count": 17,
   "id": "505c7de3-82a7-4e5b-9a19-2a88f24f7d9f",
   "metadata": {
    "tags": []
   },
   "outputs": [],
   "source": [
    "# Drop columns whose columns have 'Unnamed: 0'\n",
    "df = pd.read_csv('transactions.csv')\n",
    "if 'Unnamed: 0' in df.columns:\n",
    "    df = df.drop('Unnamed: 0', axis=1)"
   ]
  },
  {
   "cell_type": "code",
   "execution_count": 18,
   "id": "09bdfb2e-7e6f-4c85-9f9c-bde17155cb55",
   "metadata": {
    "tags": []
   },
   "outputs": [],
   "source": [
    "# Select only departments of 'Ile de France' and year up to 2022\n",
    "idf_df = df[(df.departement.isin ([75, 77, 78, 91, 92, 93, 94, 95])) & (df.date_transaction.str.startswith('2022-'))]"
   ]
  },
  {
   "cell_type": "code",
   "execution_count": 19,
   "id": "059a1453",
   "metadata": {},
   "outputs": [
    {
     "name": "stderr",
     "output_type": "stream",
     "text": [
      "C:\\Users\\Utilisateur\\AppData\\Local\\Temp\\ipykernel_8296\\1240108971.py:4: SettingWithCopyWarning: \n",
      "A value is trying to be set on a copy of a slice from a DataFrame.\n",
      "Try using .loc[row_indexer,col_indexer] = value instead\n",
      "\n",
      "See the caveats in the documentation: https://pandas.pydata.org/pandas-docs/stable/user_guide/indexing.html#returning-a-view-versus-a-copy\n",
      "  idf_df[c + '_sum'] = idf_df[c].apply(lambda x: sum(eval(x)) if 'NULL' not in x else 0)\n",
      "C:\\Users\\Utilisateur\\AppData\\Local\\Temp\\ipykernel_8296\\1240108971.py:4: SettingWithCopyWarning: \n",
      "A value is trying to be set on a copy of a slice from a DataFrame.\n",
      "Try using .loc[row_indexer,col_indexer] = value instead\n",
      "\n",
      "See the caveats in the documentation: https://pandas.pydata.org/pandas-docs/stable/user_guide/indexing.html#returning-a-view-versus-a-copy\n",
      "  idf_df[c + '_sum'] = idf_df[c].apply(lambda x: sum(eval(x)) if 'NULL' not in x else 0)\n",
      "C:\\Users\\Utilisateur\\AppData\\Local\\Temp\\ipykernel_8296\\1240108971.py:4: SettingWithCopyWarning: \n",
      "A value is trying to be set on a copy of a slice from a DataFrame.\n",
      "Try using .loc[row_indexer,col_indexer] = value instead\n",
      "\n",
      "See the caveats in the documentation: https://pandas.pydata.org/pandas-docs/stable/user_guide/indexing.html#returning-a-view-versus-a-copy\n",
      "  idf_df[c + '_sum'] = idf_df[c].apply(lambda x: sum(eval(x)) if 'NULL' not in x else 0)\n",
      "C:\\Users\\Utilisateur\\AppData\\Local\\Temp\\ipykernel_8296\\1240108971.py:4: SettingWithCopyWarning: \n",
      "A value is trying to be set on a copy of a slice from a DataFrame.\n",
      "Try using .loc[row_indexer,col_indexer] = value instead\n",
      "\n",
      "See the caveats in the documentation: https://pandas.pydata.org/pandas-docs/stable/user_guide/indexing.html#returning-a-view-versus-a-copy\n",
      "  idf_df[c + '_sum'] = idf_df[c].apply(lambda x: sum(eval(x)) if 'NULL' not in x else 0)\n",
      "C:\\Users\\Utilisateur\\AppData\\Local\\Temp\\ipykernel_8296\\1240108971.py:4: SettingWithCopyWarning: \n",
      "A value is trying to be set on a copy of a slice from a DataFrame.\n",
      "Try using .loc[row_indexer,col_indexer] = value instead\n",
      "\n",
      "See the caveats in the documentation: https://pandas.pydata.org/pandas-docs/stable/user_guide/indexing.html#returning-a-view-versus-a-copy\n",
      "  idf_df[c + '_sum'] = idf_df[c].apply(lambda x: sum(eval(x)) if 'NULL' not in x else 0)\n"
     ]
    }
   ],
   "source": [
    "# make sure all surfaces are counted \n",
    "surface_cols = [c for c in idf_df.columns if 'surface_' in c and c != 'surface_habitable']\n",
    "for c in surface_cols:\n",
    "    idf_df[c + '_sum'] = idf_df[c].apply(lambda x: sum(eval(x)) if 'NULL' not in x else 0)\n",
    "idf_df = idf_df[idf_df[[c + '_sum' for c in surface_cols]].sum(axis=1) == 0]"
   ]
  },
  {
   "cell_type": "code",
   "execution_count": 20,
   "id": "81ca75db",
   "metadata": {},
   "outputs": [],
   "source": [
    "# Add a column price per square meter\n",
    "idf_df['prix_m2'] = idf_df['prix'] / (idf_df['surface_habitable'])\n"
   ]
  },
  {
   "cell_type": "code",
   "execution_count": 21,
   "id": "394f99c7",
   "metadata": {},
   "outputs": [],
   "source": [
    "# Add a column in numerical for Appartement = 1 and Houses = 2\n",
    "idf_df['type_bat'] = np.where(idf_df['type_batiment'].values == 'Appartement',1,2)\n",
    "\n"
   ]
  },
  {
   "cell_type": "code",
   "execution_count": 22,
   "id": "4c1f6552",
   "metadata": {},
   "outputs": [],
   "source": [
    "# create the file .csv in notebooks without empty titles columns\n",
    "idf_df.to_csv('transac_idf.csv', index=False)"
   ]
  }
 ],
 "metadata": {
  "kernelspec": {
   "display_name": "Python 3 (ipykernel)",
   "language": "python",
   "name": "python3"
  },
  "language_info": {
   "codemirror_mode": {
    "name": "ipython",
    "version": 3
   },
   "file_extension": ".py",
   "mimetype": "text/x-python",
   "name": "python",
   "nbconvert_exporter": "python",
   "pygments_lexer": "ipython3",
   "version": "3.11.5"
  }
 },
 "nbformat": 4,
 "nbformat_minor": 5
}
